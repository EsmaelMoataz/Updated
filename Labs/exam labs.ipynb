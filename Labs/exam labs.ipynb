{
 "cells": [
  {
   "cell_type": "markdown",
   "metadata": {},
   "source": [
    "# Libraries"
   ]
  },
  {
   "cell_type": "code",
   "execution_count": null,
   "metadata": {},
   "outputs": [],
   "source": [
    "import numpy as np \n",
    "import tensorflow as tf"
   ]
  },
  {
   "cell_type": "markdown",
   "metadata": {},
   "source": [
    "# Neural Network project \n",
    "\n"
   ]
  },
  {
   "cell_type": "code",
   "execution_count": 117,
   "metadata": {},
   "outputs": [
    {
     "name": "stdout",
     "output_type": "stream",
     "text": [
      "[0 1 2 3 4 5 6 7 8 9]\n"
     ]
    },
    {
     "data": {
      "image/png": "[encoded data removed]",
      "text/plain": [
       "<Figure size 500x500 with 1 Axes>"
      ]
     },
     "metadata": {},
     "output_type": "display_data"
    },
    {
     "data": {
      "text/plain": [
       "\"\\nmodel.compile(loss = 'sparse_categorical_crossentropy',metrics = ['accuracy'],optimizer = 'adam')\\nhistory = model.fit(x_train, y_train,epochs= 2 ,validation_split = 0.2)\\nprint(m1.shape)\\ntest_loss , test_val = model.evaluate(x_test ,y_test)\\nplt.imshow(model.layers[1])\\nplt.show\\n#plt.figure(10,10)\\nplt.figure(figsize=(10,10))\\nplt.subplot(1,2,1)\\nplt.plot(history.history['accuracy'], color = 'red')\\nplt.plot(history.history['loss'], color ='blue' )\\nplt.plot(history.history['val_accuracy'] , color = 'green')\\nplt.xlabel('epoch')\\nplt.ylabel('Value')\\nplt.show()\\n\""
      ]
     },
     "execution_count": 117,
     "metadata": {},
     "output_type": "execute_result"
    }
   ],
   "source": [
    "import numpy as np \n",
    "import tensorflow as tf\n",
    "import matplotlib.pyplot as plt\n",
    "(x_train ,y_train),(x_test,y_test)= tf.keras.datasets.mnist.load_data()\n",
    "x_train = x_train / x_train.max()\n",
    "\n",
    "print(np.unique(y_train))\n",
    "plt.figure(figsize=(5, 5))\n",
    "plt.imshow(x_train[1], cmap='gray')\n",
    "plt.show()\n",
    "model = tf.keras.Sequential()\n",
    "model.add(tf.keras.layers.Conv2D(20,(3,3),activation = 'relu', input_shape = (28,28,1)))\n",
    "model.add(tf.keras.layers.Conv2D(30,(3,3),activation = 'relu'))\n",
    "model.add(tf.keras.layers.MaxPool2D(2,2))\n",
    "model.add(tf.keras.layers.Flatten())\n",
    "model.add(tf.keras.layers.Dense(50,activation = 'relu'))\n",
    "model.add(tf.keras.layers.Dense(100, activation='softmax'))\n",
    "\n",
    "\n",
    "\n",
    "'''\n",
    "model.compile(loss = 'sparse_categorical_crossentropy',metrics = ['accuracy'],optimizer = 'adam')\n",
    "history = model.fit(x_train, y_train,epochs= 2 ,validation_split = 0.2)\n",
    "print(m1.shape)\n",
    "test_loss , test_val = model.evaluate(x_test ,y_test)\n",
    "plt.imshow(model.layers[1])\n",
    "plt.show\n",
    "#plt.figure(10,10)\n",
    "plt.figure(figsize=(10,10))\n",
    "plt.subplot(1,2,1)\n",
    "plt.plot(history.history['accuracy'], color = 'red')\n",
    "plt.plot(history.history['loss'], color ='blue' )\n",
    "plt.plot(history.history['val_accuracy'] , color = 'green')\n",
    "plt.xlabel('epoch')\n",
    "plt.ylabel('Value')\n",
    "plt.show()\n",
    "'''\n",
    "\n"
   ]
  },
  {
   "cell_type": "markdown",
   "metadata": {},
   "source": [
    "# Explaining for some part in the code \n",
    "\n",
    "\n",
    "### Full Code with Line-by-Line Explanations\n",
    "\n",
    "\n",
    "```\n",
    "\n",
    "- **Explanation**: Importing the necessary libraries.\n",
    "  - `tensorflow as tf`: TensorFlow is the library we're using to work with neural networks and models.\n",
    "  - `numpy as np`: NumPy helps with numerical operations, especially when working with arrays and images.\n",
    "\n",
    "---\n",
    "\n",
    "```python\n",
    "# Assuming 'model' is already defined as in your original code\n",
    "```\n",
    "\n",
    "- ** Explanation**: This comment assumes that you have already built the `model` (as you did in your original code).\n",
    "- ** Why**: It means we’re going to use this model directly instead of building it from scratch here.\n",
    "\n",
    "---\n",
    "\n",
    "```python\n",
    "# Step 1: Create a small model that stops at the layer we want (second Conv2D layer)\n",
    "intermediate_model = tf.keras.Model(inputs=model.input, outputs=model.layers[1].output)\n",
    "```\n",
    "\n",
    "- **Explanation**: Here, we're creating a smaller version of the full model (`model`) that stops after the second layer.\n",
    "  - `tf.keras.Model(...)`: This builds a new model based on the parts of the existing `model`.\n",
    "  - `inputs=model.input`: This tells the mini-model to use the same input layer as the original model. It means this model will accept the same kind of input (images with shape `(28, 28, 1)`).\n",
    "  - `outputs=model.layers[1].output`: This specifies that the output of the mini-model should be the output from the **second layer** in the original model (index `[1]`).\n",
    "- **Why**: By creating this mini-model, we can stop at the second layer to see what the output looks like at that point, rather than running through all layers of the model.\n",
    "\n",
    "---\n",
    "\n",
    "```python\n",
    "# Step 2: Take one image from x_train and expand its dimensions to match what the model expects\n",
    "sample_image = tf.expand_dims(x_train[1], axis=0)  # Add batch dimension to make it (1, 28, 28, 1)\n",
    "```\n",
    "\n",
    "- **Explanation**: Here, we’re preparing one image from the training data (`x_train[1]`) so it can be fed into the model.\n",
    "  - `x_train[1]`: This is a single image from the training dataset, with shape `(28, 28)`.\n",
    "  - `tf.expand_dims(x_train[1], axis=0)`: This adds a new dimension to make the shape `(1, 28, 28)`. This extra \"batch\" dimension (the `1` in `(1, 28, 28)`) is needed because the model expects a batch of images, even if there’s only one image in this batch.\n",
    "- **Why**: TensorFlow models require inputs to be in batches. Adding this dimension makes our single image look like a batch of 1, so the model can process it.\n",
    "\n",
    "---\n",
    "\n",
    "```python\n",
    "# Step 3: Run the sample image through the small model to see the output after layer 1\n",
    "intermediate_output = intermediate_model(sample_image)\n",
    "```\n",
    "\n",
    "- **Explanation**: This line runs `sample_image` through `intermediate_model`, which stops at layer 1, to see what the data looks like after this layer.\n",
    "  - `intermediate_model(sample_image)`: This feeds `sample_image` through the mini-model. Since the mini-model stops at the second layer, `intermediate_output` will contain the result just after this layer.\n",
    "  - `intermediate_output`: Stores the output from the mini-model.\n",
    "- **Why**: By running `sample_image` through this mini-model, we can see how the model transforms the image data at this point. It’s helpful for understanding what each layer is doing.\n",
    "\n",
    "---\n",
    "\n",
    "```python\n",
    "# Step 4: Print the shape of the output to see what it looks like\n",
    "print(\"Output shape after layer 1:\", intermediate_output.shape)\n",
    "```\n",
    "\n",
    "- **Explanation**: This line prints the shape (size) of the data after it has passed through the second layer.\n",
    "  - `intermediate_output.shape`: This tells us the dimensions of the output.\n",
    "- **Why**: Knowing the output shape helps us verify that the model layers are transforming the data correctly. Each layer usually changes the shape, so this gives insight into what’s happening after each layer.\n",
    "\n",
    "---\n",
    "\n",
    "### Summary\n",
    "This code builds a smaller model that stops at the second layer, prepares a single image in a batch-friendly format, runs it through this mini-model, and prints out the shape of the output at that stage. Each step is designed to help inspect the changes in data as it moves through the model. Let me know if any part still feels unclear!"
   ]
  },
  {
   "cell_type": "code",
   "execution_count": 82,
   "metadata": {},
   "outputs": [
    {
     "name": "stdout",
     "output_type": "stream",
     "text": [
      "tf.Tensor([-5 -3 -3  5], shape=(4,), dtype=int64)\n"
     ]
    }
   ],
   "source": [
    "tf_variable1 = np.array([2,5,6,7])\n",
    "tf_variable2 = np.array ([7,8,9,2])\n",
    "result1 =tf_variable1 - tf_variable2\n",
    "print(tf.constant((result1)))"
   ]
  },
  {
   "cell_type": "code",
   "execution_count": 60,
   "metadata": {},
   "outputs": [
    {
     "name": "stdout",
     "output_type": "stream",
     "text": [
      "30\n",
      "[30  0 10]\n"
     ]
    }
   ],
   "source": [
    "\n",
    "tf_variable1 = tf.Variable(50)\n",
    "tf_variable2 = tf.Variable(20)\n",
    "result1 = tf_variable1 - tf_variable2\n",
    "print(result1.numpy())\n",
    "tf_variable1 = tf.Variable([50,40,30])\n",
    "tf_variable2 = tf.Variable([20,40,20])\n",
    "result1 = tf_variable1 - tf_variable2\n",
    "print(result1.numpy())"
   ]
  },
  {
   "cell_type": "code",
   "execution_count": null,
   "metadata": {},
   "outputs": [],
   "source": []
  }
 ],
 "metadata": {
  "kernelspec": {
   "display_name": "base",
   "language": "python",
   "name": "python3"
  },
  "language_info": {
   "codemirror_mode": {
    "name": "ipython",
    "version": 3
   },
   "file_extension": ".py",
   "mimetype": "text/x-python",
   "name": "python",
   "nbconvert_exporter": "python",
   "pygments_lexer": "ipython3",
   "version": "3.10.14"
  }
 },
 "nbformat": 4,
 "nbformat_minor": 2
}
